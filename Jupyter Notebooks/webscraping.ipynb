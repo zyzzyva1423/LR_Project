{
 "cells": [
  {
   "cell_type": "markdown",
   "metadata": {
    "id": "clhp7j9SJ6KV"
   },
   "source": [
    "# Chapter 8 - Building a Web Scraping Pipeline"
   ]
  },
  {
   "cell_type": "code",
   "execution_count": null,
   "metadata": {
    "id": "u8SimfTMJ2gQ"
   },
   "outputs": [],
   "source": [
    "import requests, bs4\n",
    "from bs4 import BeautifulSoup as bs\n",
    "import pandas as pd"
   ]
  },
  {
   "cell_type": "markdown",
   "metadata": {
    "id": "ANyl6BJL1S1S"
   },
   "source": [
    "Now it's time to build your very own web scraping pipeline.  For these exercises, we will once again be exploring the Metis blog.  We've requested and parsed the HTML for the main blog page for you and saved it as `soup`."
   ]
  },
  {
   "cell_type": "code",
   "execution_count": null,
   "metadata": {
    "id": "PxYrVoeK9HgM"
   },
   "outputs": [],
   "source": [
    "url = 'https://www.thisismetis.com/blog'\n",
    "response = requests.get(url)\n",
    "status = response.status_code\n",
    "if status == 200:\n",
    "  page = response.text\n",
    "  soup = bs(page)\n",
    "else:\n",
    "  print(f\"Oops! Received status code {status}\")"
   ]
  },
  {
   "cell_type": "markdown",
   "metadata": {
    "id": "90luPYKu2HFK"
   },
   "source": [
    "# Exercise 1 - Collecting Information from One Page\n",
    "\n",
    "For this exercise, you will be extracting each blog's title, author, and URL from the blog main page.  Create one dictionary for each blog with the keys \"title\", \"author\", and \"link\"; here's one example:\n",
    "\n",
    "``` {\n",
    "  'title': 'Our Top 10 Most-Read Blog Posts of 2020',\n",
    "  'author': 'Carlos Russo',\n",
    "  'link': '/blog/our-top-10-most-read-blog-posts-of-2020'\n",
    "}```\n",
    "\n",
    "Save these dictionaries in a list called `post_list`.  You should find that `post_list` had between 5 and 20 dictionary elements.\n",
    "\n",
    "_Hint_: Be sure to clean the string containing the author!"
   ]
  },
  {
   "cell_type": "code",
   "execution_count": null,
   "metadata": {
    "colab": {
     "base_uri": "https://localhost:8080/"
    },
    "executionInfo": {
     "elapsed": 281,
     "status": "ok",
     "timestamp": 1611115951390,
     "user": {
      "displayName": "Kimberly Fessel",
      "photoUrl": "https://lh3.googleusercontent.com/a-/AOh14GgaW0VCIxWlhnaaeesuuDgx7k2z29m1Yw_q0_Cc=s64",
      "userId": "09492636377810448153"
     },
     "user_tz": 300
    },
    "id": "79hRKKemKE8x",
    "outputId": "951d4034-158b-4d99-f196-cc1049225d49"
   },
   "outputs": [
    {
     "data": {
      "text/plain": [
       "[{'author': 'Carlos Russo',\n",
       "  'link': '/blog/bootcamp-grad-aims-to-drive-advancements-in-healthcare-research',\n",
       "  'title': 'Bootcamp Grad Aims To Drive Advancements in Healthcare Research'},\n",
       " {'author': 'Carlos Russo',\n",
       "  'link': '/blog/our-top-10-most-read-blog-posts-of-2020',\n",
       "  'title': 'Our Top 10 Most-Read Blog Posts of 2020'},\n",
       " {'author': 'Carlos Russo',\n",
       "  'link': '/blog/a-virtual-classroom-tour-with-course-report',\n",
       "  'title': 'A Virtual Classroom Tour with Course Report'},\n",
       " {'author': 'Jason Moss',\n",
       "  'link': '/blog/founders-note-the-continuing-evolution-of-metis',\n",
       "  'title': 'Founder’s Note: The Continuing Evolution of Metis'},\n",
       " {'author': 'Metis',\n",
       "  'link': '/blog/jason-moss-discusses-innovation-covid-19-and-managing-through-difficult-times',\n",
       "  'title': 'Jason Moss Discusses Innovation, COVID-19, and Managing Through Difficult Times'},\n",
       " {'author': 'Tony Yiu',\n",
       "  'link': '/blog/stress-testing-our-fair-value-calculation',\n",
       "  'title': 'Stress Testing Our Stock Market Fair Value Calculation'},\n",
       " {'author': 'Shaunna Randolph',\n",
       "  'link': '/blog/copy-upcoming-odsc-east-talks-metis-senior-data-scientists',\n",
       "  'title': 'Javed Ahmed Discusses Ethical Risk and Bias at Ai X West 2020'},\n",
       " {'author': 'Emily Wilson',\n",
       "  'link': '/blog/a-career-in-clean-energy-boosted-by-the-bootcamp',\n",
       "  'title': 'A Career in Clean Energy Boosted by the Bootcamp'},\n",
       " {'author': 'Metis',\n",
       "  'link': '/blog/data-scientist-roundup-seaborn-series-python-data-science-ai-bankning',\n",
       "  'title': 'Data Scientist Roundup: Python for Data Science, AI in Banking, & More'},\n",
       " {'author': 'Metis',\n",
       "  'link': '/blog/made-at-metis-album-disovery-tool-voting-recommendation-engine',\n",
       "  'title': 'Made at Metis: An Album Discovery Tool & A Voting Recommendation Engine'}]"
      ]
     },
     "execution_count": 17,
     "metadata": {
      "tags": []
     },
     "output_type": "execute_result"
    }
   ],
   "source": [
    "post_list = []\n",
    "\n",
    "### BEGIN SOLUTION\n",
    "for div in soup.find_all(class_='blog-post-summary'):\n",
    "  title_tag = div.find(class_='blog-post-title')\n",
    "  title = title_tag.text\n",
    "  link = title_tag.parent['href']\n",
    "  author = div.find(class_='blog-post-details').text.split('•')[0].replace('By', '').strip()\n",
    "  post_list.append({'title': title, 'author': author, 'link': link})\n",
    "### END SOLUTION\n",
    "\n",
    "post_list"
   ]
  },
  {
   "cell_type": "code",
   "execution_count": null,
   "metadata": {
    "id": "Bfq0EQG89sUJ"
   },
   "outputs": [],
   "source": [
    "assert type(post_list) == list, \"Be sure that post_list is a Python list.\"\n",
    "assert type(post_list[0]) == dict, \"Each entry in post_list should be a Python dictionary.\"\n",
    "assert 5 < len(post_list) < 20, \"You should find between 5 and 20 posts on the main page of the blog.\""
   ]
  },
  {
   "cell_type": "code",
   "execution_count": null,
   "metadata": {
    "id": "vp3LtVIv93OD"
   },
   "outputs": [],
   "source": [
    "### BEGIN HIDDEN TESTS\n",
    "test_list = []\n",
    "for div in soup.find_all(class_='blog-post-summary'):\n",
    "  title_tag = div.find(class_='blog-post-title')\n",
    "  title = title_tag.text\n",
    "  link = title_tag.parent['href']\n",
    "  author = div.find(class_='blog-post-details').text.split('•')[0].replace('By', '').strip()\n",
    "  test_list.append({'title': title, 'author': author, 'link': link})\n",
    "\n",
    "assert post_list == test_list\n",
    "### END HIDDEN TESTS"
   ]
  },
  {
   "cell_type": "code",
   "execution_count": null,
   "metadata": {
    "id": "eyz5SFVX96X8"
   },
   "outputs": [],
   "source": []
  },
  {
   "cell_type": "markdown",
   "metadata": {
    "id": "Lf0viYnkFllg"
   },
   "source": [
    "## Exercise 2 - Collecting Information from Multiple Pages\n",
    "\n",
    "Now you're going to scale up to collect the same information from at least the most recent fifty blog posts (including those from the main blog page).\n",
    "\n",
    "You will need to create a web scraping pipeline to do this.  Remember the main steps:\n",
    "1. Gather links -- develop a strategy for straping past posts\n",
    "2. Scrape the same data from each page\n",
    "3. Clean the data as necessary\n",
    "\n",
    "Save the information as one dictionary for each post (as described in Exercise 1) and put all the posts in a list called `pipeline_list`. "
   ]
  },
  {
   "cell_type": "code",
   "execution_count": null,
   "metadata": {
    "colab": {
     "base_uri": "https://localhost:8080/"
    },
    "executionInfo": {
     "elapsed": 1556,
     "status": "ok",
     "timestamp": 1611160418931,
     "user": {
      "displayName": "Kimberly Fessel",
      "photoUrl": "https://lh3.googleusercontent.com/a-/AOh14GgaW0VCIxWlhnaaeesuuDgx7k2z29m1Yw_q0_Cc=s64",
      "userId": "09492636377810448153"
     },
     "user_tz": 300
    },
    "id": "fdqShb5an_Lu",
    "outputId": "a68eb897-d0b9-4b06-c173-2258369a7570"
   },
   "outputs": [
    {
     "data": {
      "text/plain": [
       "[{'author': 'Emily Wilson',\n",
       "  'link': '/blog/a-hunger-for-data-leads-grad-to-role-at-hellofresh',\n",
       "  'title': 'A Hunger for Data Leads Grad to Role at HelloFresh'},\n",
       " {'author': 'Metis',\n",
       "  'link': '/blog/metis-courses-offered-through-new-wake-forest-university-financial-services-and-fintech-hub',\n",
       "  'title': 'Metis Courses Offered Through New Wake Forest University Financial Services and Fintech Hub'},\n",
       " {'author': 'Metis',\n",
       "  'link': '/blog/artists-data-science-podcast-metis-chief-data-scientist-debbie-berebichez',\n",
       "  'title': 'The Artists of Data Science Podcast Feat. Metis Chief Data Scientist Debbie Berebichez'},\n",
       " {'author': 'Metis',\n",
       "  'link': '/blog/video-metis-chief-data-scientist-making-of-a-data-scientist',\n",
       "  'title': 'VIDEO: Metis Chief Data Scientist Discusses The Making of a Data Scientist'},\n",
       " {'author': 'Metis',\n",
       "  'link': '/blog/metis-included-course-reports-35-best-online-bootcamps-of-2020-list',\n",
       "  'title': \"Metis Included on Course Report's 35 Best Online Bootcamps of 2020 List\"}]"
      ]
     },
     "execution_count": 10,
     "metadata": {
      "tags": []
     },
     "output_type": "execute_result"
    }
   ],
   "source": [
    "pipeline_list = []\n",
    "\n",
    "### BEGIN SOLUTION\n",
    "\n",
    "url_base = 'https://www.thisismetis.com/blog/page/'\n",
    "url_list = [url_base+str(i) for i in range(1,6)]\n",
    "for url in url_list:\n",
    "  page = requests.get(url).text\n",
    "  soup = bs(page)\n",
    "\n",
    "  for div in soup.find_all(class_='blog-post-summary'):\n",
    "    title_tag = div.find(class_='blog-post-title')\n",
    "    title = title_tag.text\n",
    "    link = title_tag.parent['href']\n",
    "    author = div.find(class_='blog-post-details').text.split('•')[0].replace('By', '').strip()\n",
    "    pipeline_list.append({'title': title, 'author': author, 'link': link}) \n",
    "\n",
    "\n",
    "### END SOLUTION\n",
    "\n",
    "pipeline_list[-5:]"
   ]
  },
  {
   "cell_type": "code",
   "execution_count": null,
   "metadata": {
    "id": "nThhlJ-eoeQe"
   },
   "outputs": [],
   "source": [
    "assert type(pipeline_list) == list, \"Be sure that pipeline_list is a Python list.\"\n",
    "assert type(pipeline_list[0]) == dict, \"Each entry in pipeline_list should be a Python dictionary.\"\n",
    "assert len(pipeline_list) >= 50, \"Be sure to collect information for at least 50 blog posts.\""
   ]
  },
  {
   "cell_type": "code",
   "execution_count": null,
   "metadata": {
    "id": "coMy81GVo4OL"
   },
   "outputs": [],
   "source": [
    "### BEGIN HIDDEN TESTS\n",
    "test_pipeline_list = []\n",
    "url_base = 'https://www.thisismetis.com/blog/page/'\n",
    "url_list = [url_base+str(i) for i in range(1,6)]\n",
    "for url in url_list:\n",
    "  page = requests.get(url).text\n",
    "  soup = bs(page)\n",
    "\n",
    "  for div in soup.find_all(class_='blog-post-summary'):\n",
    "    title_tag = div.find(class_='blog-post-title')\n",
    "    title = title_tag.text\n",
    "    link = title_tag.parent['href']\n",
    "    author = div.find(class_='blog-post-details').text.split('•')[0].replace('By', '').strip()\n",
    "    test_pipeline_list.append({'title': title, 'author': author, 'link': link}) \n",
    "\n",
    "for post in test_pipeline_list:\n",
    "  assert post in pipeline_list\n",
    "### END HIDDEN TESTS"
   ]
  },
  {
   "cell_type": "markdown",
   "metadata": {
    "id": "urVkDo1Nqvxs"
   },
   "source": [
    "## Exercise 3 - Storing Scraped Data\n",
    "\n",
    "Now that you have built `pipeline_list`, let's convert that data into a pandas dataframe.  Call your dataframe `pipeline_df`.  It should have at least 50 rows of the most recent posts and three columns: \"title\", \"author\", and \"link\".\n",
    "\n",
    "Congratulations -- you have now completed a full web scraping pipeline!"
   ]
  },
  {
   "cell_type": "code",
   "execution_count": null,
   "metadata": {
    "colab": {
     "base_uri": "https://localhost:8080/",
     "height": 198
    },
    "executionInfo": {
     "elapsed": 307,
     "status": "ok",
     "timestamp": 1611161178120,
     "user": {
      "displayName": "Kimberly Fessel",
      "photoUrl": "https://lh3.googleusercontent.com/a-/AOh14GgaW0VCIxWlhnaaeesuuDgx7k2z29m1Yw_q0_Cc=s64",
      "userId": "09492636377810448153"
     },
     "user_tz": 300
    },
    "id": "EW43ywhfp3Bn",
    "outputId": "945d7cf3-d327-42ba-bb52-5c8e06537a2b"
   },
   "outputs": [
    {
     "data": {
      "text/html": [
       "<div>\n",
       "<style scoped>\n",
       "    .dataframe tbody tr th:only-of-type {\n",
       "        vertical-align: middle;\n",
       "    }\n",
       "\n",
       "    .dataframe tbody tr th {\n",
       "        vertical-align: top;\n",
       "    }\n",
       "\n",
       "    .dataframe thead th {\n",
       "        text-align: right;\n",
       "    }\n",
       "</style>\n",
       "<table border=\"1\" class=\"dataframe\">\n",
       "  <thead>\n",
       "    <tr style=\"text-align: right;\">\n",
       "      <th></th>\n",
       "      <th>title</th>\n",
       "      <th>author</th>\n",
       "      <th>link</th>\n",
       "    </tr>\n",
       "  </thead>\n",
       "  <tbody>\n",
       "    <tr>\n",
       "      <th>0</th>\n",
       "      <td>Bootcamp Grad Aims To Drive Advancements in He...</td>\n",
       "      <td>Carlos Russo</td>\n",
       "      <td>/blog/bootcamp-grad-aims-to-drive-advancements...</td>\n",
       "    </tr>\n",
       "    <tr>\n",
       "      <th>1</th>\n",
       "      <td>Our Top 10 Most-Read Blog Posts of 2020</td>\n",
       "      <td>Carlos Russo</td>\n",
       "      <td>/blog/our-top-10-most-read-blog-posts-of-2020</td>\n",
       "    </tr>\n",
       "    <tr>\n",
       "      <th>2</th>\n",
       "      <td>A Virtual Classroom Tour with Course Report</td>\n",
       "      <td>Carlos Russo</td>\n",
       "      <td>/blog/a-virtual-classroom-tour-with-course-report</td>\n",
       "    </tr>\n",
       "    <tr>\n",
       "      <th>3</th>\n",
       "      <td>Founder’s Note: The Continuing Evolution of Metis</td>\n",
       "      <td>Jason Moss</td>\n",
       "      <td>/blog/founders-note-the-continuing-evolution-o...</td>\n",
       "    </tr>\n",
       "    <tr>\n",
       "      <th>4</th>\n",
       "      <td>Jason Moss Discusses Innovation, COVID-19, and...</td>\n",
       "      <td>Metis</td>\n",
       "      <td>/blog/jason-moss-discusses-innovation-covid-19...</td>\n",
       "    </tr>\n",
       "  </tbody>\n",
       "</table>\n",
       "</div>"
      ],
      "text/plain": [
       "                                               title  ...                                               link\n",
       "0  Bootcamp Grad Aims To Drive Advancements in He...  ...  /blog/bootcamp-grad-aims-to-drive-advancements...\n",
       "1            Our Top 10 Most-Read Blog Posts of 2020  ...      /blog/our-top-10-most-read-blog-posts-of-2020\n",
       "2        A Virtual Classroom Tour with Course Report  ...  /blog/a-virtual-classroom-tour-with-course-report\n",
       "3  Founder’s Note: The Continuing Evolution of Metis  ...  /blog/founders-note-the-continuing-evolution-o...\n",
       "4  Jason Moss Discusses Innovation, COVID-19, and...  ...  /blog/jason-moss-discusses-innovation-covid-19...\n",
       "\n",
       "[5 rows x 3 columns]"
      ]
     },
     "execution_count": 18,
     "metadata": {
      "tags": []
     },
     "output_type": "execute_result"
    }
   ],
   "source": [
    "### BEGIN SOLUTION\n",
    "pipeline_df = pd.DataFrame(pipeline_list)\n",
    "### END SOLUTION\n",
    "\n",
    "pipeline_df.head()"
   ]
  },
  {
   "cell_type": "code",
   "execution_count": null,
   "metadata": {
    "id": "TiEVz2nFsFnK"
   },
   "outputs": [],
   "source": [
    "assert type(pipeline_df) == pd.DataFrame, \"Be sure pipeline_df is a pandas dataframe.\"\n",
    "assert len(pipeline_df) >= 50, \"pipeline_df should contain the information for at least 50 blog posts.\"\n",
    "for col in ['title', 'author', 'link']:\n",
    "  assert col in pipeline_df.columns, f\"pipeline_df should contain a column called {col}\""
   ]
  },
  {
   "cell_type": "code",
   "execution_count": null,
   "metadata": {
    "id": "-rL_bKKqsSn5"
   },
   "outputs": [],
   "source": [
    "### BEGIN HIDDEN TEST\n",
    "test_pipeline_df = pd.DataFrame(test_pipeline_list)\n",
    "for col in test_pipeline_df.columns:\n",
    "  assert test_pipeline_df.loc[0, col] in pipeline_df[col].values  #first required post\n",
    "  assert test_pipeline_df.loc[49, col] in pipeline_df[col].values #last required post\n",
    "### END HIDDEN TEST"
   ]
  },
  {
   "cell_type": "code",
   "execution_count": null,
   "metadata": {
    "id": "V8sTR22JutkD"
   },
   "outputs": [],
   "source": []
  }
 ],
 "metadata": {
  "colab": {
   "collapsed_sections": [],
   "name": "webscraping-chapter8-exercises.ipynb",
   "provenance": []
  },
  "kernelspec": {
   "display_name": "Python 3",
   "language": "python",
   "name": "python3"
  },
  "language_info": {
   "codemirror_mode": {
    "name": "ipython",
    "version": 3
   },
   "file_extension": ".py",
   "mimetype": "text/x-python",
   "name": "python",
   "nbconvert_exporter": "python",
   "pygments_lexer": "ipython3",
   "version": "3.8.8"
  }
 },
 "nbformat": 4,
 "nbformat_minor": 1
}
